{
 "cells": [
  {
   "cell_type": "code",
   "execution_count": 55,
   "metadata": {},
   "outputs": [],
   "source": [
    "import cv2\n",
    "import matplotlib.pyplot as plt\n",
    "import numpy as np"
   ]
  },
  {
   "cell_type": "code",
   "execution_count": 56,
   "metadata": {},
   "outputs": [],
   "source": [
    "#load the Tensorflow - Model weights\n",
    "network = cv2.dnn.readNetFromTensorflow(\"graph_opt.pb\")"
   ]
  },
  {
   "cell_type": "code",
   "execution_count": 57,
   "metadata": {},
   "outputs": [],
   "source": [
    "inWidth = 368\n",
    "inHeight = 368\n",
    "threshold = 0.2"
   ]
  },
  {
   "cell_type": "code",
   "execution_count": 58,
   "metadata": {},
   "outputs": [],
   "source": [
    "#got from COCO Data - https://github.com/opencv/opencv/blob/master/samples/dnn/openpose.py\n",
    "BODY_PARTS = { \"Nose\": 0, \"Neck\": 1, \"RShoulder\": 2, \"RElbow\": 3, \"RWrist\": 4,\n",
    "               \"LShoulder\": 5, \"LElbow\": 6, \"LWrist\": 7, \"RHip\": 8, \"RKnee\": 9,\n",
    "               \"RAnkle\": 10, \"LHip\": 11, \"LKnee\": 12, \"LAnkle\": 13, \"REye\": 14,\n",
    "               \"LEye\": 15, \"REar\": 16, \"LEar\": 17, \"Background\": 18 }\n",
    "\n",
    "POSE_PAIRS = [ [\"Neck\", \"RShoulder\"], [\"Neck\", \"LShoulder\"], [\"RShoulder\", \"RElbow\"],\n",
    "               [\"RElbow\", \"RWrist\"], [\"LShoulder\", \"LElbow\"], [\"LElbow\", \"LWrist\"],\n",
    "               [\"Neck\", \"RHip\"], [\"RHip\", \"RKnee\"], [\"RKnee\", \"RAnkle\"], [\"Neck\", \"LHip\"],\n",
    "               [\"LHip\", \"LKnee\"], [\"LKnee\", \"LAnkle\"], [\"Neck\", \"Nose\"], [\"Nose\", \"REye\"],\n",
    "               [\"REye\", \"REar\"], [\"Nose\", \"LEye\"], [\"LEye\", \"LEar\"] ]"
   ]
  },
  {
   "cell_type": "code",
   "execution_count": 59,
   "metadata": {},
   "outputs": [
    {
     "data": {
      "text/plain": [
       "<matplotlib.image.AxesImage at 0x7fb342493690>"
      ]
     },
     "execution_count": 59,
     "metadata": {},
     "output_type": "execute_result"
    },
    {
     "data": {
      "image/png": "[encoded data removed]",
      "text/plain": [
       "<Figure size 432x288 with 1 Axes>"
      ]
     },
     "metadata": {
      "needs_background": "light"
     },
     "output_type": "display_data"
    }
   ],
   "source": [
    "#load and plot the image\n",
    "img = cv2.imread(\"test_image.jpg\")\n",
    "plt.imshow(cv2.cvtColor(img, cv2.COLOR_BGR2RGB))"
   ]
  },
  {
   "cell_type": "code",
   "execution_count": 60,
   "metadata": {},
   "outputs": [],
   "source": [
    "def pose_estimation(frame):\n",
    "    frame_width = frame.shape[1]\n",
    "    frame_height = frame.shape[0]\n",
    "    #blobFromImage - prepare Input for pretrained models\n",
    "    #args - image, scaling factor, input size - definet by the NN, RGB subtraction values, swap the R and B channel...open cv assumes images in BGR order\n",
    "    network.setInput(cv2.dnn.blobFromImage(frame, 1.0, (inWidth, inHeight), (127.5, 127.5, 127.5), swapRB=True, crop=False))\n",
    "    output = network.forward()\n",
    "    #change output shape from (1, 57, 46, 46) to (1, 19, 46, 46)\n",
    "    output = output[:, :19, :, :]\n",
    "    \n",
    "    #list for detected points\n",
    "    points = []\n",
    "    \n",
    "    for i in range(len(BODY_PARTS)):\n",
    "        heatmap = output[0, i, :, :]\n",
    "        \n",
    "        _, conf, _, point = cv2.minMaxLoc(heatmap)\n",
    "        \n",
    "        x = (frame_width * point[0]) / output.shape[3]\n",
    "        y = (frame_height * point[1]) / output.shape[2]\n",
    "        \n",
    "        #use detected points if threshold is reached\n",
    "        if conf > threshold:\n",
    "            points.append((int(x), int(y)))\n",
    "        else:\n",
    "            pass\n",
    "\n",
    "    for pair in POSE_PAIRS:\n",
    "        \n",
    "        #compare detected body parts with body pairs\n",
    "        body_part_from = pair[0]\n",
    "        body_part_to = pair[1]\n",
    "\n",
    "        body_id_from = BODY_PARTS[body_part_from] \n",
    "        body_id_to = BODY_PARTS[body_part_to]\n",
    "\n",
    "        #connect the detected body parts with lines\n",
    "        if points[body_id_from] and points[body_id_to]:\n",
    "            cv2.line(frame, points[body_id_from], points[body_id_to], (0, 255, 0), 3)\n",
    "            cv2.ellipse(frame, points[body_id_from], (3, 3), 0, 0, 360, (0, 0, 255), cv2.FILLED)\n",
    "            cv2.ellipse(frame, points[body_id_to], (3, 3), 0, 0, 360, (0, 0, 255), cv2.FILLED)\n",
    "    \n",
    "    return frame"
   ]
  },
  {
   "cell_type": "code",
   "execution_count": 61,
   "metadata": {},
   "outputs": [],
   "source": [
    "test = pose_estimation(img)"
   ]
  },
  {
   "cell_type": "code",
   "execution_count": 62,
   "metadata": {},
   "outputs": [
    {
     "data": {
      "text/plain": [
       "True"
      ]
     },
     "execution_count": 62,
     "metadata": {},
     "output_type": "execute_result"
    }
   ],
   "source": [
    "cv2.imwrite('savedImage.jpg', test)"
   ]
  },
  {
   "cell_type": "code",
   "execution_count": null,
   "metadata": {},
   "outputs": [],
   "source": []
  }
 ],
 "metadata": {
  "kernelspec": {
   "display_name": "Python 3",
   "language": "python",
   "name": "python3"
  },
  "language_info": {
   "codemirror_mode": {
    "name": "ipython",
    "version": 3
   },
   "file_extension": ".py",
   "mimetype": "text/x-python",
   "name": "python",
   "nbconvert_exporter": "python",
   "pygments_lexer": "ipython3",
   "version": "3.7.9"
  }
 },
 "nbformat": 4,
 "nbformat_minor": 4
}
