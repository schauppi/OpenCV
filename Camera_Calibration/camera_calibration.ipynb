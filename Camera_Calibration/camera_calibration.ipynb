{
 "cells": [
  {
   "cell_type": "code",
   "execution_count": 1,
   "metadata": {},
   "outputs": [],
   "source": [
    "import numpy as np\n",
    "import cv2\n",
    "import matplotlib.pyplot as plt\n",
    "import matplotlib.image as mpimg\n",
    "import os\n",
    "import yaml"
   ]
  },
  {
   "cell_type": "code",
   "execution_count": 2,
   "metadata": {},
   "outputs": [],
   "source": [
    "#define the corner of the checkerboard in x and y direction\n",
    "x = 9\n",
    "y = 6"
   ]
  },
  {
   "cell_type": "code",
   "execution_count": 3,
   "metadata": {},
   "outputs": [],
   "source": [
    "#lists for objectpoints and imagepoints\n",
    "objectpoints = []\n",
    "imagepoints = []"
   ]
  },
  {
   "cell_type": "code",
   "execution_count": 4,
   "metadata": {},
   "outputs": [],
   "source": [
    "#prepare the objectpoints\n",
    "#array of size 6 * 3 (checkerboard corners) - with 3 entries\n",
    "objp = np.zeros((x*y,3))\n",
    "objp = objp.astype(\"float32\")\n",
    "objp[:,:2] =  np.mgrid[0:x,0:y].T.reshape(-1,2)"
   ]
  },
  {
   "cell_type": "code",
   "execution_count": 5,
   "metadata": {},
   "outputs": [],
   "source": [
    "#define the termination criteria\n",
    "criteria = (cv2.TERM_CRITERIA_EPS + cv2.TERM_CRITERIA_MAX_ITER, 30, 0.001)"
   ]
  },
  {
   "cell_type": "code",
   "execution_count": 6,
   "metadata": {},
   "outputs": [],
   "source": [
    "#define the images in directory\n",
    "import glob\n",
    "images = (glob.glob(\"/Users/davidschaupp/Documents/Checkerboard_Images/*.png\"))"
   ]
  },
  {
   "cell_type": "code",
   "execution_count": 7,
   "metadata": {},
   "outputs": [],
   "source": [
    "for i in images:\n",
    "    img = cv2.imread(i) \n",
    "    gray = cv2.cvtColor(img, cv2.COLOR_BGR2GRAY) #convert to grayscale\n",
    "    ret, corners = cv2.findChessboardCorners(gray, (x,y), None) #find the checkerboard corners\n",
    "    if ret == True:\n",
    "        objectpoints.append(objp)\n",
    "        corners2 = cv2.cornerSubPix(gray, corners, (11,11), (-1,-1), criteria)\n",
    "        imagepoints.append(corners2)\n",
    "        img = cv2.drawChessboardCorners(img, (x, y), corners2, ret) #display the detected corners in the image\n",
    "        cv2.imshow(\"img\", img)\n",
    "        cv2.waitKey(500)\n",
    "\n",
    "cv2.destroyAllWindows()"
   ]
  },
  {
   "cell_type": "code",
   "execution_count": 8,
   "metadata": {},
   "outputs": [],
   "source": [
    "#camera calibration\n",
    "ret, mtx, dist, rvecs, tvecs = cv2.calibrateCamera(objectpoints, imagepoints, gray.shape[::-1], None, None)"
   ]
  },
  {
   "cell_type": "code",
   "execution_count": 9,
   "metadata": {},
   "outputs": [],
   "source": [
    "#transform matrix and coefficients to list\n",
    "camera_matrix = np.asarray(mtx)\n",
    "camera_matrix = camera_matrix.tolist()\n",
    "dist_coeff = np.asarray(dist)\n",
    "dist_coeff = dist_coeff.tolist()"
   ]
  },
  {
   "cell_type": "code",
   "execution_count": 10,
   "metadata": {},
   "outputs": [],
   "source": [
    "#dictionary of the camera matrix\n",
    "data = {}\n",
    "data[\"camera_matrix\"] = camera_matrix\n",
    "data[\"dist_coeff\"] = dist_coeff"
   ]
  },
  {
   "cell_type": "code",
   "execution_count": 11,
   "metadata": {},
   "outputs": [],
   "source": [
    "#save the camera matrix\n",
    "with open(\"camera_matrix.yaml\", \"w\") as file:\n",
    "    yaml.dump(data, file)"
   ]
  },
  {
   "cell_type": "code",
   "execution_count": 12,
   "metadata": {},
   "outputs": [
    {
     "name": "stdout",
     "output_type": "stream",
     "text": [
      "{'camera_matrix': [[1440.4152999640942, 0.0, 981.0669554295833], [0.0, 1446.9517966671535, 544.8325813992967], [0.0, 0.0, 1.0]], 'dist_coeff': [[0.06200964857201756, -0.21080876636116172, 0.0006658990987554589, 0.005594191143150983, 0.18639035828211514]]}\n"
     ]
    }
   ],
   "source": [
    "#check the camera matrix file\n",
    "with open(\"camera_matrix.yaml\") as file:\n",
    "    data = yaml.full_load(file)\n",
    "    print(data)"
   ]
  },
  {
   "cell_type": "code",
   "execution_count": null,
   "metadata": {},
   "outputs": [],
   "source": []
  }
 ],
 "metadata": {
  "kernelspec": {
   "display_name": "Python 3",
   "language": "python",
   "name": "python3"
  },
  "language_info": {
   "codemirror_mode": {
    "name": "ipython",
    "version": 3
   },
   "file_extension": ".py",
   "mimetype": "text/x-python",
   "name": "python",
   "nbconvert_exporter": "python",
   "pygments_lexer": "ipython3",
   "version": "3.7.9"
  }
 },
 "nbformat": 4,
 "nbformat_minor": 4
}
