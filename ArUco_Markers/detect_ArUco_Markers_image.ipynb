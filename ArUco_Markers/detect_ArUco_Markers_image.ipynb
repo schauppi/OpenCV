{
 "cells": [
  {
   "cell_type": "code",
   "execution_count": 1,
   "metadata": {},
   "outputs": [],
   "source": [
    "import numpy as np\n",
    "import cv2\n",
    "import sys\n",
    "import os\n",
    "import imutils\n",
    "import time"
   ]
  },
  {
   "cell_type": "code",
   "execution_count": 2,
   "metadata": {},
   "outputs": [],
   "source": [
    "#supported OpenCV ArUco tags in Dict\n",
    "ARUCO_DICT = {\n",
    "\t\"DICT_4X4_50\": cv2.aruco.DICT_4X4_50,\n",
    "\t\"DICT_4X4_100\": cv2.aruco.DICT_4X4_100,\n",
    "\t\"DICT_4X4_250\": cv2.aruco.DICT_4X4_250,\n",
    "\t\"DICT_4X4_1000\": cv2.aruco.DICT_4X4_1000,\n",
    "\t\"DICT_5X5_50\": cv2.aruco.DICT_5X5_50,\n",
    "\t\"DICT_5X5_100\": cv2.aruco.DICT_5X5_100,\n",
    "\t\"DICT_5X5_250\": cv2.aruco.DICT_5X5_250,\n",
    "\t\"DICT_5X5_1000\": cv2.aruco.DICT_5X5_1000,\n",
    "\t\"DICT_6X6_50\": cv2.aruco.DICT_6X6_50,\n",
    "\t\"DICT_6X6_100\": cv2.aruco.DICT_6X6_100,\n",
    "\t\"DICT_6X6_250\": cv2.aruco.DICT_6X6_250,\n",
    "\t\"DICT_6X6_1000\": cv2.aruco.DICT_6X6_1000,\n",
    "\t\"DICT_7X7_50\": cv2.aruco.DICT_7X7_50,\n",
    "\t\"DICT_7X7_100\": cv2.aruco.DICT_7X7_100,\n",
    "\t\"DICT_7X7_250\": cv2.aruco.DICT_7X7_250,\n",
    "\t\"DICT_7X7_1000\": cv2.aruco.DICT_7X7_1000,\n",
    "\t\"DICT_ARUCO_ORIGINAL\": cv2.aruco.DICT_ARUCO_ORIGINAL,\n",
    "\t\"DICT_APRILTAG_16h5\": cv2.aruco.DICT_APRILTAG_16h5,\n",
    "\t\"DICT_APRILTAG_25h9\": cv2.aruco.DICT_APRILTAG_25h9,\n",
    "\t\"DICT_APRILTAG_36h10\": cv2.aruco.DICT_APRILTAG_36h10,\n",
    "\t\"DICT_APRILTAG_36h11\": cv2.aruco.DICT_APRILTAG_36h11\n",
    "}"
   ]
  },
  {
   "cell_type": "code",
   "execution_count": 3,
   "metadata": {},
   "outputs": [],
   "source": [
    "#load aruco dict\n",
    "aruco_dict = cv2.aruco.Dictionary_get(ARUCO_DICT[\"DICT_4X4_250\"])\n",
    "#get aruco parameters\n",
    "aruco_params = cv2.aruco.DetectorParameters_create()"
   ]
  },
  {
   "cell_type": "code",
   "execution_count": 11,
   "metadata": {},
   "outputs": [],
   "source": [
    "#draw the markers with the build in function\n",
    "cap = cv2.VideoCapture(1)\n",
    "\n",
    "while True:\n",
    "   \n",
    "    ret, frame = cap.read()\n",
    "\n",
    "    gray = cv2.cvtColor(frame, cv2.COLOR_BGR2GRAY)\n",
    "    \n",
    "    (coordinates, ids, rejected) = cv2.aruco.detectMarkers(gray, aruco_dict, parameters=aruco_params)\n",
    "    \n",
    "    frame = cv2.aruco.drawDetectedMarkers(frame, coordinates, ids)\n",
    "\n",
    "    cv2.imshow(\"Frame\", frame)\n",
    "    key = cv2.waitKey(1) & 0xFF\n",
    "\n",
    "    if key == ord(\"q\"):\n",
    "        break\n",
    "\n",
    "cap.release()\n",
    "cv2.destroyAllWindows()"
   ]
  },
  {
   "cell_type": "code",
   "execution_count": 11,
   "metadata": {},
   "outputs": [],
   "source": [
    "cap = cv2.VideoCapture(1)\n",
    "\n",
    "while True:\n",
    "   \n",
    "    ret, frame = cap.read()\n",
    "\n",
    "    gray = cv2.cvtColor(frame, cv2.COLOR_BGR2GRAY)\n",
    "    \n",
    "    (corners, ids, rejected) = cv2.aruco.detectMarkers(gray, aruco_dict, parameters=aruco_params)\n",
    "    \n",
    "    if np.all(ids != None):\n",
    "        x1 = (corners[0][0][0][0], corners[0][0][0][1])\n",
    "        x2 = (corners[0][0][1][0], corners[0][0][1][1])\n",
    "        x3 = (corners[0][0][2][0], corners[0][0][2][1])\n",
    "        x4 = (corners[0][0][3][0], corners[0][0][3][1])\n",
    "\n",
    "        im_dst = frame\n",
    "        im_src = cv2.imread(\"sample_image.png\")\n",
    "        size = im_src.shape\n",
    "        pts_dst = np.array([x1, x2, x3, x4])\n",
    "\n",
    "        pts_src = np.array(\n",
    "        [\n",
    "            [0, 0],\n",
    "            [size[1], 0],\n",
    "            [size[1], size[0]],\n",
    "            [0, size[0]]\n",
    "        ], dtype=float\n",
    "        )\n",
    "        h, status = cv2.findHomography(pts_src, pts_dst)\n",
    "        temp = cv2.warpPerspective(im_src, h, (im_dst.shape[1], im_dst.shape[0]))\n",
    "        cv2.fillConvexPoly(im_dst, pts_dst.astype(int), 0, 16)\n",
    "        im_dst = im_dst + temp\n",
    "        \n",
    "        cv2.imshow('Display', im_dst)\n",
    "\n",
    "        key = cv2.waitKey(1) & 0xFF\n",
    "\n",
    "        if key == ord(\"q\"):\n",
    "            break\n",
    "\n",
    "cap.release()\n",
    "cv2.destroyAllWindows()"
   ]
  },
  {
   "cell_type": "code",
   "execution_count": null,
   "metadata": {},
   "outputs": [],
   "source": []
  }
 ],
 "metadata": {
  "kernelspec": {
   "display_name": "Python 3",
   "language": "python",
   "name": "python3"
  },
  "language_info": {
   "codemirror_mode": {
    "name": "ipython",
    "version": 3
   },
   "file_extension": ".py",
   "mimetype": "text/x-python",
   "name": "python",
   "nbconvert_exporter": "python",
   "pygments_lexer": "ipython3",
   "version": "3.7.9"
  }
 },
 "nbformat": 4,
 "nbformat_minor": 4
}
