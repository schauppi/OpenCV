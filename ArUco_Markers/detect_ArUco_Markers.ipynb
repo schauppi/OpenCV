{
 "cells": [
  {
   "cell_type": "code",
   "execution_count": 1,
   "metadata": {},
   "outputs": [],
   "source": [
    "import numpy as np\n",
    "import cv2\n",
    "import sys\n",
    "import os\n",
    "import imutils"
   ]
  },
  {
   "cell_type": "code",
   "execution_count": 2,
   "metadata": {},
   "outputs": [],
   "source": [
    "#path to marker images\n",
    "image_path = \"/Users/davidschaupp/Documents/GitHub/OpenCV-ArUco-Markers\""
   ]
  },
  {
   "cell_type": "code",
   "execution_count": 3,
   "metadata": {},
   "outputs": [],
   "source": [
    "#supported OpenCV ArUco tags in Dict\n",
    "ARUCO_DICT = {\n",
    "\t\"DICT_4X4_50\": cv2.aruco.DICT_4X4_50,\n",
    "\t\"DICT_4X4_100\": cv2.aruco.DICT_4X4_100,\n",
    "\t\"DICT_4X4_250\": cv2.aruco.DICT_4X4_250,\n",
    "\t\"DICT_4X4_1000\": cv2.aruco.DICT_4X4_1000,\n",
    "\t\"DICT_5X5_50\": cv2.aruco.DICT_5X5_50,\n",
    "\t\"DICT_5X5_100\": cv2.aruco.DICT_5X5_100,\n",
    "\t\"DICT_5X5_250\": cv2.aruco.DICT_5X5_250,\n",
    "\t\"DICT_5X5_1000\": cv2.aruco.DICT_5X5_1000,\n",
    "\t\"DICT_6X6_50\": cv2.aruco.DICT_6X6_50,\n",
    "\t\"DICT_6X6_100\": cv2.aruco.DICT_6X6_100,\n",
    "\t\"DICT_6X6_250\": cv2.aruco.DICT_6X6_250,\n",
    "\t\"DICT_6X6_1000\": cv2.aruco.DICT_6X6_1000,\n",
    "\t\"DICT_7X7_50\": cv2.aruco.DICT_7X7_50,\n",
    "\t\"DICT_7X7_100\": cv2.aruco.DICT_7X7_100,\n",
    "\t\"DICT_7X7_250\": cv2.aruco.DICT_7X7_250,\n",
    "\t\"DICT_7X7_1000\": cv2.aruco.DICT_7X7_1000,\n",
    "\t\"DICT_ARUCO_ORIGINAL\": cv2.aruco.DICT_ARUCO_ORIGINAL,\n",
    "\t\"DICT_APRILTAG_16h5\": cv2.aruco.DICT_APRILTAG_16h5,\n",
    "\t\"DICT_APRILTAG_25h9\": cv2.aruco.DICT_APRILTAG_25h9,\n",
    "\t\"DICT_APRILTAG_36h10\": cv2.aruco.DICT_APRILTAG_36h10,\n",
    "\t\"DICT_APRILTAG_36h11\": cv2.aruco.DICT_APRILTAG_36h11\n",
    "}"
   ]
  },
  {
   "cell_type": "code",
   "execution_count": 4,
   "metadata": {},
   "outputs": [],
   "source": [
    "#load the marker image and resize it\n",
    "image = os.path.join(image_path, \"opencv_frame_0.png\")\n",
    "img = cv2.imread(image)\n",
    "img = imutils.resize(img, width=600)"
   ]
  },
  {
   "cell_type": "code",
   "execution_count": 5,
   "metadata": {},
   "outputs": [],
   "source": [
    "#load aruco dict\n",
    "aruco_dict = cv2.aruco.Dictionary_get(ARUCO_DICT[\"DICT_4X4_250\"])\n",
    "#get aruco parameters\n",
    "aruco_params = cv2.aruco.DetectorParameters_create()\n",
    "#detect the marker - function returns x,y coordinets, id of tag and potential not identified tags\n",
    "(coordinates, ids, rejected) = cv2.aruco.detectMarkers(img, aruco_dict, parameters=aruco_params)"
   ]
  },
  {
   "cell_type": "code",
   "execution_count": 6,
   "metadata": {},
   "outputs": [],
   "source": [
    "ids = ids.flatten()\n",
    "\n",
    "for i in range(len(ids)):\n",
    "    \n",
    "    #select the coordinates for the bounding boxes\n",
    "    top_left = coordinates[i][0][0]\n",
    "    top_right = coordinates[i][0][1]\n",
    "    bottom_right = coordinates[i][0][2]\n",
    "    bottom_left = coordinates[i][0][3]\n",
    "\n",
    "    #convert the coordinates to integers\n",
    "    top_left = int(top_left[0]), int(top_left[1])\n",
    "    top_right = int(top_right[0]), int(top_right[1])\n",
    "    bottom_right = int(bottom_right[0]), int(bottom_left[1])\n",
    "    bottom_left = int(bottom_left[0]), int(bottom_right[1])\n",
    "\n",
    "    #draw the lines\n",
    "\n",
    "    cv2.line(img, top_left, top_right, (0, 255, 0), 2)\n",
    "    cv2.line(img, top_right, bottom_right, (0, 255, 0), 2)\n",
    "    cv2.line(img, bottom_right, bottom_left, (0, 255, 0), 2)\n",
    "    cv2.line(img, bottom_left, top_left, (0, 255, 0), 2)\n",
    "    \n",
    "    #compute the center of the markers, convert it to integer\n",
    "    \n",
    "    center_x = ((top_left[0] + bottom_right[0]) / 2)\n",
    "    center_y = ((top_left[1] + bottom_right[1]) / 2)\n",
    "    center_x = int(center_x)\n",
    "    center_y = int(center_y)\n",
    "    cv2.circle(img, (center_x, center_y), 4, (0, 0, 255), -1)\n",
    "    \n",
    "    #draw the marker id´s - id+1\n",
    "    \n",
    "    cv2.putText(img, str(i+1), (top_left[0], top_left[1] - 5), cv2.FONT_HERSHEY_SCRIPT_SIMPLEX, 0.5, (0,255,0),2)\n",
    "    \n",
    "    cv2.imshow(\"test\", img)\n",
    "    cv2.waitKey(0)"
   ]
  }
 ],
 "metadata": {
  "kernelspec": {
   "display_name": "Python 3",
   "language": "python",
   "name": "python3"
  },
  "language_info": {
   "codemirror_mode": {
    "name": "ipython",
    "version": 3
   },
   "file_extension": ".py",
   "mimetype": "text/x-python",
   "name": "python",
   "nbconvert_exporter": "python",
   "pygments_lexer": "ipython3",
   "version": "3.7.9"
  }
 },
 "nbformat": 4,
 "nbformat_minor": 4
}
